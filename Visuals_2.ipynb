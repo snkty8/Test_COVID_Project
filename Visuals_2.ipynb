{
 "cells": [
  {
   "cell_type": "code",
   "execution_count": 1,
   "metadata": {},
   "outputs": [],
   "source": [
    "import pandas as pd\n",
    "import numpy as np\n",
    "import matplotlib.pyplot as plt"
   ]
  },
  {
   "cell_type": "code",
   "execution_count": 2,
   "metadata": {},
   "outputs": [
    {
     "data": {
      "text/html": [
       "<div>\n",
       "<style scoped>\n",
       "    .dataframe tbody tr th:only-of-type {\n",
       "        vertical-align: middle;\n",
       "    }\n",
       "\n",
       "    .dataframe tbody tr th {\n",
       "        vertical-align: top;\n",
       "    }\n",
       "\n",
       "    .dataframe thead th {\n",
       "        text-align: right;\n",
       "    }\n",
       "</style>\n",
       "<table border=\"1\" class=\"dataframe\">\n",
       "  <thead>\n",
       "    <tr style=\"text-align: right;\">\n",
       "      <th></th>\n",
       "      <th>country</th>\n",
       "      <th>total_cases</th>\n",
       "      <th>total_deaths</th>\n",
       "      <th>people_fully_vaccinated</th>\n",
       "      <th>population</th>\n",
       "    </tr>\n",
       "  </thead>\n",
       "  <tbody>\n",
       "    <tr>\n",
       "      <th>0</th>\n",
       "      <td>Afghanistan</td>\n",
       "      <td>152448.0</td>\n",
       "      <td>7054.0</td>\n",
       "      <td>219159.0</td>\n",
       "      <td>3.892834e+07</td>\n",
       "    </tr>\n",
       "    <tr>\n",
       "      <th>1</th>\n",
       "      <td>Africa</td>\n",
       "      <td>7507801.0</td>\n",
       "      <td>189151.0</td>\n",
       "      <td>32783791.0</td>\n",
       "      <td>1.340598e+09</td>\n",
       "    </tr>\n",
       "    <tr>\n",
       "      <th>2</th>\n",
       "      <td>Albania</td>\n",
       "      <td>139324.0</td>\n",
       "      <td>2478.0</td>\n",
       "      <td>575342.0</td>\n",
       "      <td>2.877800e+06</td>\n",
       "    </tr>\n",
       "    <tr>\n",
       "      <th>3</th>\n",
       "      <td>Algeria</td>\n",
       "      <td>191583.0</td>\n",
       "      <td>5004.0</td>\n",
       "      <td>724812.0</td>\n",
       "      <td>4.385104e+07</td>\n",
       "    </tr>\n",
       "    <tr>\n",
       "      <th>4</th>\n",
       "      <td>Andorra</td>\n",
       "      <td>14988.0</td>\n",
       "      <td>129.0</td>\n",
       "      <td>40616.0</td>\n",
       "      <td>7.726500e+04</td>\n",
       "    </tr>\n",
       "  </tbody>\n",
       "</table>\n",
       "</div>"
      ],
      "text/plain": [
       "       country  total_cases  total_deaths  people_fully_vaccinated  \\\n",
       "0  Afghanistan     152448.0        7054.0                 219159.0   \n",
       "1       Africa    7507801.0      189151.0               32783791.0   \n",
       "2      Albania     139324.0        2478.0                 575342.0   \n",
       "3      Algeria     191583.0        5004.0                 724812.0   \n",
       "4      Andorra      14988.0         129.0                  40616.0   \n",
       "\n",
       "     population  \n",
       "0  3.892834e+07  \n",
       "1  1.340598e+09  \n",
       "2  2.877800e+06  \n",
       "3  4.385104e+07  \n",
       "4  7.726500e+04  "
      ]
     },
     "execution_count": 2,
     "metadata": {},
     "output_type": "execute_result"
    }
   ],
   "source": [
    "cases_per_location = pd.read_csv(\"./Resources/total_cases_per_location.csv\")\n",
    "cases_per_location.head()"
   ]
  },
  {
   "cell_type": "code",
   "execution_count": 3,
   "metadata": {},
   "outputs": [
    {
     "data": {
      "text/plain": [
       "0       0.391612\n",
       "1       0.560034\n",
       "2       4.841337\n",
       "3       0.436895\n",
       "4      19.398175\n",
       "         ...    \n",
       "228     0.000000\n",
       "229     2.717747\n",
       "230     0.025176\n",
       "231     1.112650\n",
       "232     0.825221\n",
       "Length: 233, dtype: float64"
      ]
     },
     "execution_count": 3,
     "metadata": {},
     "output_type": "execute_result"
    }
   ],
   "source": [
    "percentage_total = (cases_per_location['total_cases']/cases_per_location['population'])*100\n",
    "percentage_total"
   ]
  },
  {
   "cell_type": "code",
   "execution_count": 4,
   "metadata": {},
   "outputs": [
    {
     "data": {
      "text/plain": [
       "0      0.018120\n",
       "1      0.014109\n",
       "2      0.086107\n",
       "3      0.011411\n",
       "4      0.166958\n",
       "         ...   \n",
       "228    0.000000\n",
       "229    0.056852\n",
       "230    0.004754\n",
       "231    0.019441\n",
       "232    0.028588\n",
       "Length: 233, dtype: float64"
      ]
     },
     "execution_count": 4,
     "metadata": {},
     "output_type": "execute_result"
    }
   ],
   "source": [
    "percentage_deaths = (cases_per_location['total_deaths']/cases_per_location['population'])*100\n",
    "percentage_deaths"
   ]
  },
  {
   "cell_type": "code",
   "execution_count": 5,
   "metadata": {},
   "outputs": [
    {
     "data": {
      "text/plain": [
       "0       0.562981\n",
       "1       2.445460\n",
       "2      19.992425\n",
       "3       1.652896\n",
       "4      52.567139\n",
       "         ...    \n",
       "228    41.908234\n",
       "229    24.486983\n",
       "230     0.044666\n",
       "231     1.300873\n",
       "232     9.830379\n",
       "Length: 233, dtype: float64"
      ]
     },
     "execution_count": 5,
     "metadata": {},
     "output_type": "execute_result"
    }
   ],
   "source": [
    "percentage_vaccinated = (cases_per_location['people_fully_vaccinated']/cases_per_location['population'])*100\n",
    "percentage_vaccinated"
   ]
  },
  {
   "cell_type": "code",
   "execution_count": 7,
   "metadata": {},
   "outputs": [],
   "source": [
    "country = cases_per_location['country']"
   ]
  },
  {
   "cell_type": "code",
   "execution_count": 8,
   "metadata": {},
   "outputs": [],
   "source": [
    "percentage_df = pd.DataFrame(columns = ['country',\n",
    "                             'percentage_total',\n",
    "                             'percentage_deaths',\n",
    "                             'percentage_vaccinated'])"
   ]
  },
  {
   "cell_type": "code",
   "execution_count": 11,
   "metadata": {},
   "outputs": [],
   "source": [
    "percentage_df['country'] = country\n",
    "percentage_df['percentage_total'] = percentage_total\n",
    "percentage_df['percentage_deaths'] = percentage_deaths\n",
    "percentage_df['percentage_vaccinated'] = percentage_vaccinated\n",
    "percentage_df = percentage_df.round(3)"
   ]
  },
  {
   "cell_type": "code",
   "execution_count": 14,
   "metadata": {},
   "outputs": [
    {
     "data": {
      "text/plain": [
       "Int64Index([229], dtype='int64')"
      ]
     },
     "execution_count": 14,
     "metadata": {},
     "output_type": "execute_result"
    }
   ],
   "source": [
    "w = percentage_df[percentage_df['country']=='World'].index\n",
    "w"
   ]
  },
  {
   "cell_type": "code",
   "execution_count": 20,
   "metadata": {},
   "outputs": [
    {
     "data": {
      "text/plain": [
       "Int64Index([], dtype='int64')"
      ]
     },
     "execution_count": 20,
     "metadata": {},
     "output_type": "execute_result"
    }
   ],
   "source": [
    "i = percentage_df[percentage_df['country']=='International'].index\n",
    "i"
   ]
  },
  {
   "cell_type": "code",
   "execution_count": 22,
   "metadata": {},
   "outputs": [
    {
     "data": {
      "text/plain": [
       "Int64Index([155], dtype='int64')"
      ]
     },
     "execution_count": 22,
     "metadata": {},
     "output_type": "execute_result"
    }
   ],
   "source": [
    "n = percentage_df[percentage_df['country']=='Northern Cyprus'].index\n",
    "n"
   ]
  },
  {
   "cell_type": "code",
   "execution_count": 23,
   "metadata": {},
   "outputs": [],
   "source": [
    "test_0 = percentage_df.drop(n)\n",
    "percentage_df = test_0"
   ]
  },
  {
   "cell_type": "code",
   "execution_count": 17,
   "metadata": {},
   "outputs": [],
   "source": [
    "test_1 = percentage_df.drop(w)\n",
    "percentage_df = test_1"
   ]
  },
  {
   "cell_type": "code",
   "execution_count": 18,
   "metadata": {},
   "outputs": [],
   "source": [
    "test_2 = percentage_df.drop(i)\n",
    "percentage_df = test_2"
   ]
  },
  {
   "cell_type": "code",
   "execution_count": 24,
   "metadata": {},
   "outputs": [],
   "source": [
    "#percentage_df.to_csv(r'./Resources/Percentages.csv', index = False)"
   ]
  },
  {
   "cell_type": "code",
   "execution_count": null,
   "metadata": {},
   "outputs": [],
   "source": []
  }
 ],
 "metadata": {
  "kernelspec": {
   "display_name": "Python 3",
   "language": "python",
   "name": "python3"
  },
  "language_info": {
   "codemirror_mode": {
    "name": "ipython",
    "version": 3
   },
   "file_extension": ".py",
   "mimetype": "text/x-python",
   "name": "python",
   "nbconvert_exporter": "python",
   "pygments_lexer": "ipython3",
   "version": "3.7.9"
  }
 },
 "nbformat": 4,
 "nbformat_minor": 4
}
