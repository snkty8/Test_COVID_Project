{
 "cells": [
  {
   "cell_type": "code",
   "execution_count": 1,
   "metadata": {},
   "outputs": [],
   "source": [
    "import pandas as pd\n",
    "import numpy as np\n",
    "import matplotlib.pyplot as plt"
   ]
  },
  {
   "cell_type": "code",
   "execution_count": 6,
   "metadata": {},
   "outputs": [
    {
     "data": {
      "text/html": [
       "<div>\n",
       "<style scoped>\n",
       "    .dataframe tbody tr th:only-of-type {\n",
       "        vertical-align: middle;\n",
       "    }\n",
       "\n",
       "    .dataframe tbody tr th {\n",
       "        vertical-align: top;\n",
       "    }\n",
       "\n",
       "    .dataframe thead th {\n",
       "        text-align: right;\n",
       "    }\n",
       "</style>\n",
       "<table border=\"1\" class=\"dataframe\">\n",
       "  <thead>\n",
       "    <tr style=\"text-align: right;\">\n",
       "      <th></th>\n",
       "      <th>index</th>\n",
       "      <th>location</th>\n",
       "      <th>total_cases</th>\n",
       "      <th>total_deaths</th>\n",
       "      <th>people_fully_vaccinated</th>\n",
       "      <th>population</th>\n",
       "    </tr>\n",
       "  </thead>\n",
       "  <tbody>\n",
       "    <tr>\n",
       "      <th>0</th>\n",
       "      <td>0</td>\n",
       "      <td>Afghanistan</td>\n",
       "      <td>152448.0</td>\n",
       "      <td>7054.0</td>\n",
       "      <td>219159.0</td>\n",
       "      <td>3.892834e+07</td>\n",
       "    </tr>\n",
       "    <tr>\n",
       "      <th>1</th>\n",
       "      <td>1</td>\n",
       "      <td>Africa</td>\n",
       "      <td>7507801.0</td>\n",
       "      <td>189151.0</td>\n",
       "      <td>32783791.0</td>\n",
       "      <td>1.340598e+09</td>\n",
       "    </tr>\n",
       "    <tr>\n",
       "      <th>2</th>\n",
       "      <td>2</td>\n",
       "      <td>Albania</td>\n",
       "      <td>139324.0</td>\n",
       "      <td>2478.0</td>\n",
       "      <td>575342.0</td>\n",
       "      <td>2.877800e+06</td>\n",
       "    </tr>\n",
       "    <tr>\n",
       "      <th>3</th>\n",
       "      <td>3</td>\n",
       "      <td>Algeria</td>\n",
       "      <td>191583.0</td>\n",
       "      <td>5004.0</td>\n",
       "      <td>724812.0</td>\n",
       "      <td>4.385104e+07</td>\n",
       "    </tr>\n",
       "    <tr>\n",
       "      <th>4</th>\n",
       "      <td>4</td>\n",
       "      <td>Andorra</td>\n",
       "      <td>14988.0</td>\n",
       "      <td>129.0</td>\n",
       "      <td>40616.0</td>\n",
       "      <td>7.726500e+04</td>\n",
       "    </tr>\n",
       "  </tbody>\n",
       "</table>\n",
       "</div>"
      ],
      "text/plain": [
       "   index     location  total_cases  total_deaths  people_fully_vaccinated  \\\n",
       "0      0  Afghanistan     152448.0        7054.0                 219159.0   \n",
       "1      1       Africa    7507801.0      189151.0               32783791.0   \n",
       "2      2      Albania     139324.0        2478.0                 575342.0   \n",
       "3      3      Algeria     191583.0        5004.0                 724812.0   \n",
       "4      4      Andorra      14988.0         129.0                  40616.0   \n",
       "\n",
       "     population  \n",
       "0  3.892834e+07  \n",
       "1  1.340598e+09  \n",
       "2  2.877800e+06  \n",
       "3  4.385104e+07  \n",
       "4  7.726500e+04  "
      ]
     },
     "execution_count": 6,
     "metadata": {},
     "output_type": "execute_result"
    }
   ],
   "source": [
    "cases_per_location = pd.read_csv(\"./Resources/total_cases_per_location.csv\")\n",
    "cases_per_location.head()"
   ]
  },
  {
   "cell_type": "code",
   "execution_count": 22,
   "metadata": {},
   "outputs": [
    {
     "data": {
      "text/plain": [
       "0       0.391612\n",
       "1       0.560034\n",
       "2       4.841337\n",
       "3       0.436895\n",
       "4      19.398175\n",
       "         ...    \n",
       "228     0.000000\n",
       "229     2.717747\n",
       "230     0.025176\n",
       "231     1.112650\n",
       "232     0.825221\n",
       "Length: 233, dtype: float64"
      ]
     },
     "execution_count": 22,
     "metadata": {},
     "output_type": "execute_result"
    }
   ],
   "source": [
    "percentage_total = (cases_per_location['total_cases']/cases_per_location['population'])*100\n",
    "percentage_total"
   ]
  },
  {
   "cell_type": "code",
   "execution_count": 23,
   "metadata": {},
   "outputs": [
    {
     "data": {
      "text/plain": [
       "0      0.018120\n",
       "1      0.014109\n",
       "2      0.086107\n",
       "3      0.011411\n",
       "4      0.166958\n",
       "         ...   \n",
       "228    0.000000\n",
       "229    0.056852\n",
       "230    0.004754\n",
       "231    0.019441\n",
       "232    0.028588\n",
       "Length: 233, dtype: float64"
      ]
     },
     "execution_count": 23,
     "metadata": {},
     "output_type": "execute_result"
    }
   ],
   "source": [
    "percentage_deaths = (cases_per_location['total_deaths']/cases_per_location['population'])*100\n",
    "percentage_deaths"
   ]
  },
  {
   "cell_type": "code",
   "execution_count": 24,
   "metadata": {},
   "outputs": [
    {
     "data": {
      "text/plain": [
       "0       0.562981\n",
       "1       2.445460\n",
       "2      19.992425\n",
       "3       1.652896\n",
       "4      52.567139\n",
       "         ...    \n",
       "228    41.908234\n",
       "229    24.486983\n",
       "230     0.044666\n",
       "231     1.300873\n",
       "232     9.830379\n",
       "Length: 233, dtype: float64"
      ]
     },
     "execution_count": 24,
     "metadata": {},
     "output_type": "execute_result"
    }
   ],
   "source": [
    "percentage_vaccinated = (cases_per_location['people_fully_vaccinated']/cases_per_location['population'])*100\n",
    "percentage_vaccinated"
   ]
  },
  {
   "cell_type": "code",
   "execution_count": 25,
   "metadata": {},
   "outputs": [],
   "source": [
    "country = cases_per_location['location']"
   ]
  },
  {
   "cell_type": "code",
   "execution_count": 20,
   "metadata": {},
   "outputs": [
    {
     "data": {
      "text/html": [
       "<div>\n",
       "<style scoped>\n",
       "    .dataframe tbody tr th:only-of-type {\n",
       "        vertical-align: middle;\n",
       "    }\n",
       "\n",
       "    .dataframe tbody tr th {\n",
       "        vertical-align: top;\n",
       "    }\n",
       "\n",
       "    .dataframe thead th {\n",
       "        text-align: right;\n",
       "    }\n",
       "</style>\n",
       "<table border=\"1\" class=\"dataframe\">\n",
       "  <thead>\n",
       "    <tr style=\"text-align: right;\">\n",
       "      <th></th>\n",
       "      <th>country</th>\n",
       "      <th>percentage_total</th>\n",
       "      <th>percentage_deaths</th>\n",
       "      <th>percentage_vaccinated</th>\n",
       "    </tr>\n",
       "  </thead>\n",
       "  <tbody>\n",
       "  </tbody>\n",
       "</table>\n",
       "</div>"
      ],
      "text/plain": [
       "Empty DataFrame\n",
       "Columns: [country, percentage_total, percentage_deaths, percentage_vaccinated]\n",
       "Index: []"
      ]
     },
     "execution_count": 20,
     "metadata": {},
     "output_type": "execute_result"
    }
   ],
   "source": [
    "percentage_df = pd.DataFrame(columns = ['country',\n",
    "                             'percentage_total',\n",
    "                             'percentage_deaths',\n",
    "                             'percentage_vaccinated'])"
   ]
  },
  {
   "cell_type": "code",
   "execution_count": 27,
   "metadata": {},
   "outputs": [
    {
     "data": {
      "text/html": [
       "<div>\n",
       "<style scoped>\n",
       "    .dataframe tbody tr th:only-of-type {\n",
       "        vertical-align: middle;\n",
       "    }\n",
       "\n",
       "    .dataframe tbody tr th {\n",
       "        vertical-align: top;\n",
       "    }\n",
       "\n",
       "    .dataframe thead th {\n",
       "        text-align: right;\n",
       "    }\n",
       "</style>\n",
       "<table border=\"1\" class=\"dataframe\">\n",
       "  <thead>\n",
       "    <tr style=\"text-align: right;\">\n",
       "      <th></th>\n",
       "      <th>country</th>\n",
       "      <th>percentage_total</th>\n",
       "      <th>percentage_deaths</th>\n",
       "      <th>percentage_vaccinated</th>\n",
       "      <th>percentange_vaccinated</th>\n",
       "    </tr>\n",
       "  </thead>\n",
       "  <tbody>\n",
       "    <tr>\n",
       "      <th>0</th>\n",
       "      <td>Afghanistan</td>\n",
       "      <td>0.391612</td>\n",
       "      <td>NaN</td>\n",
       "      <td>0.562981</td>\n",
       "      <td>0.562981</td>\n",
       "    </tr>\n",
       "    <tr>\n",
       "      <th>1</th>\n",
       "      <td>Africa</td>\n",
       "      <td>0.560034</td>\n",
       "      <td>NaN</td>\n",
       "      <td>2.445460</td>\n",
       "      <td>2.445460</td>\n",
       "    </tr>\n",
       "    <tr>\n",
       "      <th>2</th>\n",
       "      <td>Albania</td>\n",
       "      <td>4.841337</td>\n",
       "      <td>NaN</td>\n",
       "      <td>19.992425</td>\n",
       "      <td>19.992425</td>\n",
       "    </tr>\n",
       "    <tr>\n",
       "      <th>3</th>\n",
       "      <td>Algeria</td>\n",
       "      <td>0.436895</td>\n",
       "      <td>NaN</td>\n",
       "      <td>1.652896</td>\n",
       "      <td>1.652896</td>\n",
       "    </tr>\n",
       "    <tr>\n",
       "      <th>4</th>\n",
       "      <td>Andorra</td>\n",
       "      <td>19.398175</td>\n",
       "      <td>NaN</td>\n",
       "      <td>52.567139</td>\n",
       "      <td>52.567139</td>\n",
       "    </tr>\n",
       "    <tr>\n",
       "      <th>...</th>\n",
       "      <td>...</td>\n",
       "      <td>...</td>\n",
       "      <td>...</td>\n",
       "      <td>...</td>\n",
       "      <td>...</td>\n",
       "    </tr>\n",
       "    <tr>\n",
       "      <th>228</th>\n",
       "      <td>Wallis and Futuna</td>\n",
       "      <td>0.000000</td>\n",
       "      <td>NaN</td>\n",
       "      <td>41.908234</td>\n",
       "      <td>41.908234</td>\n",
       "    </tr>\n",
       "    <tr>\n",
       "      <th>229</th>\n",
       "      <td>World</td>\n",
       "      <td>2.717747</td>\n",
       "      <td>NaN</td>\n",
       "      <td>24.486983</td>\n",
       "      <td>24.486983</td>\n",
       "    </tr>\n",
       "    <tr>\n",
       "      <th>230</th>\n",
       "      <td>Yemen</td>\n",
       "      <td>0.025176</td>\n",
       "      <td>NaN</td>\n",
       "      <td>0.044666</td>\n",
       "      <td>0.044666</td>\n",
       "    </tr>\n",
       "    <tr>\n",
       "      <th>231</th>\n",
       "      <td>Zambia</td>\n",
       "      <td>1.112650</td>\n",
       "      <td>NaN</td>\n",
       "      <td>1.300873</td>\n",
       "      <td>1.300873</td>\n",
       "    </tr>\n",
       "    <tr>\n",
       "      <th>232</th>\n",
       "      <td>Zimbabwe</td>\n",
       "      <td>0.825221</td>\n",
       "      <td>NaN</td>\n",
       "      <td>9.830379</td>\n",
       "      <td>9.830379</td>\n",
       "    </tr>\n",
       "  </tbody>\n",
       "</table>\n",
       "<p>233 rows × 5 columns</p>\n",
       "</div>"
      ],
      "text/plain": [
       "               country  percentage_total percentage_deaths  \\\n",
       "0          Afghanistan          0.391612               NaN   \n",
       "1               Africa          0.560034               NaN   \n",
       "2              Albania          4.841337               NaN   \n",
       "3              Algeria          0.436895               NaN   \n",
       "4              Andorra         19.398175               NaN   \n",
       "..                 ...               ...               ...   \n",
       "228  Wallis and Futuna          0.000000               NaN   \n",
       "229              World          2.717747               NaN   \n",
       "230              Yemen          0.025176               NaN   \n",
       "231             Zambia          1.112650               NaN   \n",
       "232           Zimbabwe          0.825221               NaN   \n",
       "\n",
       "     percentage_vaccinated  percentange_vaccinated  \n",
       "0                 0.562981                0.562981  \n",
       "1                 2.445460                2.445460  \n",
       "2                19.992425               19.992425  \n",
       "3                 1.652896                1.652896  \n",
       "4                52.567139               52.567139  \n",
       "..                     ...                     ...  \n",
       "228              41.908234               41.908234  \n",
       "229              24.486983               24.486983  \n",
       "230               0.044666                0.044666  \n",
       "231               1.300873                1.300873  \n",
       "232               9.830379                9.830379  \n",
       "\n",
       "[233 rows x 5 columns]"
      ]
     },
     "execution_count": 27,
     "metadata": {},
     "output_type": "execute_result"
    }
   ],
   "source": [
    "percentage_df['country'] = country\n",
    "percentage_df['percentage_total'] = percentage_total\n",
    "percentage_deaths['percentage_deaths'] = percentage_deaths\n",
    "percentage_df['percentage_vaccinated'] = percentage_vaccinated\n",
    "percentage_df"
   ]
  },
  {
   "cell_type": "code",
   "execution_count": null,
   "metadata": {},
   "outputs": [],
   "source": []
  }
 ],
 "metadata": {
  "kernelspec": {
   "display_name": "Python 3",
   "language": "python",
   "name": "python3"
  },
  "language_info": {
   "codemirror_mode": {
    "name": "ipython",
    "version": 3
   },
   "file_extension": ".py",
   "mimetype": "text/x-python",
   "name": "python",
   "nbconvert_exporter": "python",
   "pygments_lexer": "ipython3",
   "version": "3.7.9"
  }
 },
 "nbformat": 4,
 "nbformat_minor": 4
}
